{
 "cells": [
  {
   "cell_type": "code",
   "execution_count": 8,
   "id": "20e0af12",
   "metadata": {},
   "outputs": [
    {
     "name": "stdout",
     "output_type": "stream",
     "text": [
      "<class 'list'>\n",
      "*******\n",
      "[('apple', 100, 'monday'), ('banana', 150, 'friday'), ('melon', 200, 'tuesday')]\n"
     ]
    }
   ],
   "source": [
    "foodList=[\"apple\",\"banana\",\"melon\"]\n",
    "caloriesList=[100,150,200]\n",
    "dayList=[\"monday\",\"friday\",\"tuesday\"]\n",
    "\n",
    "\n",
    "zipHali=zippedList=list(zip(foodList,caloriesList,dayList))\n",
    "print(type(zipHali))\n",
    "print(\"*******\")\n",
    "print(zipHali)  #birleştirir ilkler ilklerle falan"
   ]
  },
  {
   "cell_type": "code",
   "execution_count": 47,
   "id": "4b4702e5",
   "metadata": {},
   "outputs": [
    {
     "name": "stdout",
     "output_type": "stream",
     "text": [
      "c var\n"
     ]
    }
   ],
   "source": [
    "my_dictionary = {\"k1\":10,\"k2k\":\"a\",\"k32\":30,\"k4\":\"c\"}\n",
    "if \"c\" in my_dictionary.values():\n",
    "        print(\"c var\")"
   ]
  },
  {
   "cell_type": "code",
   "execution_count": 1,
   "id": "fc0a1373",
   "metadata": {},
   "outputs": [
    {
     "name": "stdout",
     "output_type": "stream",
     "text": [
      "var\n"
     ]
    }
   ],
   "source": [
    "#5) Aşağıdaki sözlükte, anahtarlar içinde a harfinin geçip geçmediğini gösteren bir if koşulu yazınız\n",
    "my_other_dictionary = {\"b\":203,\"c\":\"a\",\"a\":400,\"d\":\"f\"}  #hem anahtarda hem değerde var\n",
    "\n",
    "\n",
    "if \"a\" in my_other_dictionary.values():\n",
    "    print(\"var\")\n",
    "else:\n",
    "    print(\"yok\")"
   ]
  },
  {
   "cell_type": "code",
   "execution_count": 30,
   "id": "fe1470f1",
   "metadata": {},
   "outputs": [
    {
     "name": "stdout",
     "output_type": "stream",
     "text": [
      "[18.84, 12.56, 31.400000000000002, 50.24, 25.12, 37.68, 56.52, 75.36]\n"
     ]
    }
   ],
   "source": [
    "#7) Aşağıdaki listedeki sayılar bir dairenin yarı çapını vermektedir. \n",
    "#Tüm dairelerin çevresini içeren başka yeni bir liste oluşturunuz. (İpucu: 2 * pi * r)  Pi 3.14 alınabilir.\n",
    "r_list = [3,2,5,8,4,6,9,12]\n",
    "\n",
    "liste=[]\n",
    "for yaricap in r_list:\n",
    "    cevre=2*3.14*yaricap\n",
    "    liste.append(cevre)\n",
    "print(liste)  "
   ]
  },
  {
   "cell_type": "code",
   "execution_count": 2,
   "id": "7cea29e3",
   "metadata": {},
   "outputs": [
    {
     "name": "stdout",
     "output_type": "stream",
     "text": [
      "[30, 24, 40, 29]\n"
     ]
    }
   ],
   "source": [
    "# Sadece yaşların olduğu yeni ve ayrı bir liste oluşturunuz.\n",
    "age_name_list = [(\"Ahmet\",30),(\"Ayse\",24),(\"Mehmet\",40),(\"Fatma\",29)]\n",
    "newList=[]\n",
    "\n",
    "for (ad,yas) in age_name_list:\n",
    "    newList.append(yas)\n",
    "print(newList)\n",
    "\n"
   ]
  },
  {
   "cell_type": "code",
   "execution_count": 42,
   "id": "9c02addc",
   "metadata": {},
   "outputs": [
    {
     "data": {
      "text/plain": [
       "['AC/DC']"
      ]
     },
     "execution_count": 42,
     "metadata": {},
     "output_type": "execute_result"
    }
   ],
   "source": [
    "#9) Aşağıdaki müzik gruplarından birini rastgele yazdıran bir kod yazınız\n",
    "from random import choice\n",
    "metal_list = [\"Metallica\",\"Iron Maiden\",\"Dream Theater\",\"Megadeth\",\"AC/DC\"]\n",
    "random.choices(metal_list)"
   ]
  },
  {
   "cell_type": "code",
   "execution_count": 44,
   "id": "cba4aca7",
   "metadata": {},
   "outputs": [
    {
     "data": {
      "text/plain": [
       "[False, False, True, False, True, True, False, True]"
      ]
     },
     "execution_count": 44,
     "metadata": {},
     "output_type": "execute_result"
    }
   ],
   "source": [
    "#for compherension kullanımı\n",
    "number_list = [5,7,18,21,20,10,405,24]\n",
    "[num % 2 == 0 for num in number_list]\n",
    "\n"
   ]
  },
  {
   "cell_type": "code",
   "execution_count": null,
   "id": "3527758d",
   "metadata": {},
   "outputs": [],
   "source": []
  }
 ],
 "metadata": {
  "kernelspec": {
   "display_name": "Python 3 (ipykernel)",
   "language": "python",
   "name": "python3"
  },
  "language_info": {
   "codemirror_mode": {
    "name": "ipython",
    "version": 3
   },
   "file_extension": ".py",
   "mimetype": "text/x-python",
   "name": "python",
   "nbconvert_exporter": "python",
   "pygments_lexer": "ipython3",
   "version": "3.10.9"
  }
 },
 "nbformat": 4,
 "nbformat_minor": 5
}
